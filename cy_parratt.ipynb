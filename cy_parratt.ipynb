{
 "cells": [
  {
   "cell_type": "code",
   "execution_count": 1,
   "metadata": {},
   "outputs": [],
   "source": [
    "%load_ext Cython\n",
    "\n",
    "import matplotlib.pyplot as plt"
   ]
  },
  {
   "cell_type": "code",
   "execution_count": 152,
   "metadata": {},
   "outputs": [],
   "source": [
    "%%cython\n",
    "# use -a flag to output analysis cell\n",
    "\n",
    "cimport cython\n",
    "\n",
    "import numpy as np\n",
    "cimport numpy as np\n",
    "\n",
    "from libc.math cimport pow, pi, sqrt, cos\n",
    "\n",
    "cdef extern from \"complex.h\":\n",
    "    long double complex csqrtl( long double complex)\n",
    "    long double complex cpowl( long double complex, long double complex)\n",
    "\n",
    "cdef extern from \"tgmath.h\":   \n",
    "    long double complex cexpl( long double complex)\n",
    "\n",
    "@cython.boundscheck(False)\n",
    "@cython.wraparound(False)\n",
    "def cy_parratt2(double wavelength,np.ndarray[np.double_t,ndim=1] z, np.ndarray[np.complex128_t,ndim=2] layer,np.ndarray[np.double_t,ndim=1] alphai):\n",
    "    cdef double k0 = 2*pi/wavelength\n",
    "    cdef int n = alphai.shape[0]\n",
    "    cdef int m = layer.shape[0]\n",
    "    cdef np.ndarray[np.complex128_t,ndim=2] X = np.empty([m,1],dtype=np.complex128)\n",
    "    cdef np.ndarray[np.complex128_t,ndim=2] Rf = np.empty([n,1],dtype=np.complex128)\n",
    "    cdef np.ndarray[np.complex128_t,ndim=2] kz = np.empty([m,1],dtype=np.complex128)\n",
    "    cdef int idx = 0\n",
    "    cdef int i, k\n",
    "    cdef int ii\n",
    "    cdef double a\n",
    "    cdef double complex c = 0+2j\n",
    "    for k in range(n):\n",
    "        # z-component of wavevector\n",
    "        a = alphai[k]\n",
    "        kz = k0*np.sqrt(np.square(layer)-pow(cos(a),2))\n",
    "#         print(kz[0:m].shape, kz[1:m+1].shape)\n",
    "#         print(kz.shape, kz[0:-1].shape)\n",
    "        r = (kz[0:(m-1)] - kz[1:m+1])/(kz[0:(m-1)] + kz[1:m+1])\n",
    "        for i in range(m-2,-1,-1):\n",
    "            X[i] = (cexpl(-c*kz[i]*z[i]) * \n",
    "                    (r[i]+X[i+1]*cexpl(c*kz[i+1]*z[i])) / \n",
    "                    (1+r[i]*X[i+1]*cexpl(c*kz[i+1]*z[i])))\n",
    "        Rf[idx] = X[0]\n",
    "        idx += 1\n",
    "    return Rf\n",
    "\n"
   ]
  },
  {
   "cell_type": "code",
   "execution_count": 139,
   "metadata": {},
   "outputs": [
    {
     "data": {
      "image/png": "[encoded data removed]",
      "text/plain": [
       "<Figure size 432x288 with 1 Axes>"
      ]
     },
     "metadata": {
      "needs_background": "light"
     },
     "output_type": "display_data"
    }
   ],
   "source": [
    "Rf = cy_parratt2(1.54,z_tot,layer_tot,alphai)\n",
    "plt.plot(alphai*180/np.pi,np.abs(Rf)**2)\n",
    "plt.show()"
   ]
  },
  {
   "cell_type": "code",
   "execution_count": 153,
   "metadata": {},
   "outputs": [],
   "source": [
    "from numba import jit\n",
    "\n",
    "@jit\n",
    "def parratt2(wavelength,z,layer,alphai):\n",
    "    k0 = 2*np.pi/wavelength\n",
    "    X = np.zeros((len(layer),1),dtype=np.complex_)\n",
    "    Rf = np.zeros((len(alphai),1),dtype=np.complex_)\n",
    "    idx = 0\n",
    "    for k in alphai:\n",
    "        # z-component of wavevector\n",
    "        kz = k0*np.sqrt(np.square(layer)-np.square(np.cos(k)))\n",
    "#         print(kz.shape)\n",
    "        r = (kz[0:-1] - kz[1:len(layer)+1])/(kz[0:-1] + kz[1:len(layer)+1])\n",
    "        for i in range(len(layer)-2,-1,-1):\n",
    "            X[i] = (np.exp(-2.j*kz[i]*z[i]) * \n",
    "                    (r[i]+X[i+1]*np.exp(2.j*kz[i+1]*z[i])) / \n",
    "                    (1+r[i]*X[i+1]*np.exp(2.j*kz[i+1]*z[i])))\n",
    "        Rf[idx] = X[0]\n",
    "        idx += 1\n",
    "    return Rf"
   ]
  },
  {
   "cell_type": "code",
   "execution_count": 23,
   "metadata": {},
   "outputs": [],
   "source": [
    "# Wavelength and Material parameters\n",
    "xlambda = 1.54 # wavelength in angstroms\n",
    "\n",
    "# Silicon\n",
    "delta_Si = 7.56*10**(-6)\n",
    "beta_Si = delta_Si/40.\n",
    "n_Si = complex(1 - delta_Si, beta_Si)\n",
    "\n",
    "# Polystyrene\n",
    "delta_PS = 3.5*10**(-6)\n",
    "beta_PS = delta_PS/200.\n",
    "tfilm = 2000 # thickness in angstroms\n",
    "n_PS = complex(1-delta_PS, beta_PS)\n",
    "\n",
    "# Polystyrene\n",
    "delta_PS = 3.5*10**(-6)\n",
    "beta_PS = delta_PS/200.\n",
    "n_film = complex(1-delta_PS, beta_PS)\n",
    "t_film = 500\n",
    "detail = 4\n",
    "num_slice = t_film/detail\n",
    "# print(num_slice)\n",
    "slice_thick = t_film/num_slice\n",
    "layers1 = np.arange(0,-t_film-slice_thick,-slice_thick)\n",
    "layer1 = np.ones((len(layers1),1),dtype=np.complex_)*n_film\n",
    "# Gold\n",
    "delta_G = 2.9912*10**(-5)\n",
    "beta_G = 2.2073*10**(-6)\n",
    "n_film = complex(1-delta_G, beta_G)\n",
    "t_film = 10\n",
    "num_slice = t_film/detail\n",
    "slice_thick = t_film/num_slice\n",
    "layers2 = np.arange(0,-t_film-slice_thick,-slice_thick)\n",
    "layer2 = np.ones((len(layers2),1),dtype=np.complex_)*n_film\n",
    "layers2 = layers2+layers1[-1]\n",
    "layers3 = layers1+layers2[-1]\n",
    "\n",
    "z_tot = np.concatenate((layers1, layers2, layers3))\n",
    "layer_tot = np.concatenate((layer1, layer2, layer1))\n",
    "\n",
    "delta_Si = 7.56*10**(-6)\n",
    "beta_Si = delta_Si/40.\n",
    "n_Si = complex(1 - delta_Si, beta_Si)\n",
    "layer_tot[0] = 1 + 0.j\n",
    "layer_tot[-1] = n_Si"
   ]
  },
  {
   "cell_type": "code",
   "execution_count": 154,
   "metadata": {},
   "outputs": [
    {
     "name": "stdout",
     "output_type": "stream",
     "text": [
      "39.8 ms ± 2.88 ms per loop (mean ± std. dev. of 7 runs, 1 loop each)\n",
      "1.72 s ± 86.3 ms per loop (mean ± std. dev. of 7 runs, 1 loop each)\n"
     ]
    }
   ],
   "source": [
    "alphai = np.arange(0.1,0.3,.0005)/180*np.pi\n",
    "%timeit parratt2(1.54,z_tot,layer_tot,alphai)\n",
    "%timeit cy_parratt2(1.54,z_tot,layer_tot,alphai)\n",
    "# Rf = cy_parratt2(1.54,z_tot,layer_tot,alphai)\n",
    "# plt.plot(alphai*180/np.pi,np.abs(Rf)**2)\n",
    "# plt.show()"
   ]
  },
  {
   "cell_type": "code",
   "execution_count": 156,
   "metadata": {},
   "outputs": [
    {
     "data": {
      "image/png": "[encoded data removed]",
      "text/plain": [
       "<Figure size 432x288 with 1 Axes>"
      ]
     },
     "metadata": {
      "needs_background": "light"
     },
     "output_type": "display_data"
    }
   ],
   "source": [
    "alphai = np.arange(0.1,1,.0005)/180*np.pi\n",
    "Rf = parratt2(1.54,z_tot,layer_tot,alphai)\n",
    "plt.semilogy(alphai*180/np.pi,np.abs(Rf)**2)\n",
    "plt.show()"
   ]
  },
  {
   "cell_type": "code",
   "execution_count": null,
   "metadata": {},
   "outputs": [],
   "source": []
  }
 ],
 "metadata": {
  "kernelspec": {
   "display_name": "Python 3",
   "language": "python",
   "name": "python3"
  },
  "language_info": {
   "codemirror_mode": {
    "name": "ipython",
    "version": 3
   },
   "file_extension": ".py",
   "mimetype": "text/x-python",
   "name": "python",
   "nbconvert_exporter": "python",
   "pygments_lexer": "ipython3",
   "version": "3.7.1"
  }
 },
 "nbformat": 4,
 "nbformat_minor": 2
}
