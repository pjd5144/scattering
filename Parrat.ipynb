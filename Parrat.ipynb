{
 "cells": [
  {
   "cell_type": "code",
   "execution_count": 335,
   "metadata": {},
   "outputs": [],
   "source": [
    "import numpy as np\n",
    "import matplotlib.pyplot as plt\n",
    "import seaborn as sns\n",
    "\n",
    "\n",
    "def parratt_reflectivity(wavelength,n_substrate,n_film,t_film,alpha_i):\n",
    "    k0 = 2*np.pi/wavelength\n",
    "    num_slice = 150.\n",
    "    slice_thick = t_film/num_slice\n",
    "    layers = np.arange(0,-t_film-slice_thick,-slice_thick)\n",
    "    n_layers = np.zeros((len(layers),1),dtype=np.complex128)\n",
    "    X = np.zeros((len(layers),1),dtype=np.complex128)\n",
    "    \n",
    "    # layer assignments\n",
    "    n_layers[0] = 1 + 0.j\n",
    "    n_layers[1:-1] = n_film\n",
    "    n_layers[-1] = n_substrate\n",
    "    \n",
    "    Rf = np.zeros((len(alphai),1),dtype=np.complex128)\n",
    "    idx = 0\n",
    "    for k in alphai:\n",
    "        # z-component of wavevector\n",
    "        kz = k0*np.sqrt(n_layers**2-np.cos(k)**2)\n",
    "        r = (kz[0:-1] - kz[1:len(n_layers)+1])/(kz[0:-1] + kz[1:len(n_layers)+1])\n",
    "\n",
    "        for i in range(len(n_layers)-2,-1,-1):\n",
    "            X[i] = (np.exp(-2.j*kz[i]*layers[i]) * \n",
    "                    (r[i]+X[i+1]*np.exp(2.j*kz[i+1]*layers[i])) / \n",
    "                    (1+r[i]*X[i+1]*np.exp(2.j*kz[i+1]*layers[i])))\n",
    "        Rf[idx] = X[0]\n",
    "        idx += 1\n",
    "    return Rf\n",
    "\n",
    "def EFI_calc(wavelength, n_substrate, n_film, t_film, alpha_i):\n",
    "    k0 = 2*np.pi/wavelength\n",
    "    num_slice = 200.\n",
    "    slice_thick = t_film/num_slice\n",
    "    layers = np.arange(0,-t_film-slice_thick,-slice_thick)\n",
    "    layers = layers.reshape(len(layers),1)\n",
    "    n_layers = np.zeros((len(layers),1),dtype=np.complex128)\n",
    "    R = np.zeros((len(layers),1),dtype=np.complex128)\n",
    "    T = np.zeros((len(layers),1),dtype=np.complex128)\n",
    "    X = np.zeros((len(layers),1),dtype=np.complex128)\n",
    "    EFI = np.zeros((len(layers),len(alphai)))\n",
    "    \n",
    "    # layer assignments\n",
    "    n_layers[0] = 1 + 0.j\n",
    "    n_layers[1:-1] = n_film\n",
    "    n_layers[-1] = n_substrate\n",
    "    \n",
    "    Rf = np.zeros((len(alphai),1),dtype=np.complex128)\n",
    "    idx = 0\n",
    "    for k in alphai:\n",
    "        # z-component of wavevector\n",
    "        kz = k0*np.sqrt(n_layers**2-np.cos(k)**2)\n",
    "        r = (kz[0:-1] - kz[1:len(n_layers)+1])/(kz[0:-1] + kz[1:len(n_layers)+1]) # for reflectivity calculation\n",
    "        \n",
    "        # Recursion to calculate reflectivity at surface\n",
    "        for i in range(len(n_layers)-2,-1,-1):\n",
    "            X[i] = (np.exp(-2.j*kz[i]*layers[i]) * \n",
    "                    (r[i]+X[i+1]*np.exp(2.j*kz[i+1]*layers[i])) / \n",
    "                    (1+r[i]*X[i+1]*np.exp(2.j*kz[i+1]*layers[i])))\n",
    "        Rf[idx] = X[0]\n",
    "        R[0] = X[0]\n",
    "        T[0] = 1\n",
    "        # Recursion to calculate R, T in film and used to calculate EFI\n",
    "        rj1j = (kz[1:len(n_layers)+1] - kz[0:-1])/(kz[0:-1] + kz[1:len(n_layers)+1]) # for calculating R, T in film\n",
    "        tj1j = 1 + rj1j\n",
    "        for i in range(0,len(n_layers)-1):\n",
    "            R[i+1] = ((1/tj1j[i]) * \n",
    "                      (T[i]*rj1j[i]*np.exp(-1.j*(kz[i+1] + kz[i])*layers[i]) + \n",
    "                      R[i]*np.exp(-1.j*(kz[i+1] - kz[i])*layers[i])))\n",
    "            T[i+1] = ((1/tj1j[i]) * \n",
    "                      (T[i]*np.exp(1.j*(kz[i+1] - kz[i])*layers[i]) + \n",
    "                      R[i]*rj1j[i]*np.exp(1.j*(kz[i+1] + kz[i])*layers[i])))\n",
    "        R[-1] = 0\n",
    "        ER = R*np.exp(1.j*kz*layers)\n",
    "        ET = T*np.exp(-1.j*kz*layers)\n",
    "        EFI[:,idx] = (np.abs(ER + ET)**2).ravel()\n",
    "        idx += 1\n",
    "    return EFI"
   ]
  },
  {
   "cell_type": "code",
   "execution_count": 70,
   "metadata": {},
   "outputs": [],
   "source": [
    "# Wavelength and Material parameters\n",
    "xlambda = 1.54 # wavelength in angstroms\n",
    "\n",
    "# Silicon\n",
    "delta_Si = 7.56*10**(-6)\n",
    "beta_Si = delta_Si/40.\n",
    "n_Si = complex(1 - delta_Si, beta_Si)\n",
    "\n",
    "# Polystyrene\n",
    "delta_PS = 3.5*10**(-6)\n",
    "beta_PS = delta_PS/200.\n",
    "tfilm = 2000 # thickness in angstroms\n",
    "n_PS = complex(1-delta_PS, beta_PS)\n"
   ]
  },
  {
   "cell_type": "code",
   "execution_count": 304,
   "metadata": {},
   "outputs": [
    {
     "data": {
      "image/png": "[encoded data removed]",
      "text/plain": [
       "<Figure size 432x288 with 1 Axes>"
      ]
     },
     "metadata": {
      "needs_background": "light"
     },
     "output_type": "display_data"
    }
   ],
   "source": [
    "alphai = np.arange(0.1,0.3,.0005)/180*np.pi\n",
    "# alphai = [0.18*180/np.pi]\n",
    "ref1 = parratt_reflectivity(1.54,n_Si,n_PS,800,alphai)\n",
    "ref2 = parratt_reflectivity(1.54,n_Si,n_PS,1000,alphai)\n",
    "plt.plot(alphai*180/np.pi,np.abs(ref1)**2)\n",
    "plt.plot(alphai*180/np.pi,np.abs(ref2)**2)\n",
    "plt.xlabel(r'$\\alpha_i$ $[^o]$',FontSize=16)\n",
    "plt.ylabel('Reflectivity')\n",
    "plt.legend(('80 nm','100 nm'))\n",
    "plt.show()"
   ]
  },
  {
   "cell_type": "code",
   "execution_count": 337,
   "metadata": {},
   "outputs": [
    {
     "data": {
      "text/plain": [
       "<matplotlib.axes._subplots.AxesSubplot at 0x1a380d5a90>"
      ]
     },
     "execution_count": 337,
     "metadata": {},
     "output_type": "execute_result"
    }
   ],
   "source": [
    "%matplotlib qt\n",
    "import scipy as sp\n",
    "alphai = np.arange(0.1,.2,.00025)/180*np.pi\n",
    "# alphai = [0.1*np.pi/180]\n",
    "EFI = EFI_calc(1.54,n_Si,n_PS,800,alphai)\n",
    "sns.heatmap(EFI,cmap=\"jet\")"
   ]
  },
  {
   "cell_type": "code",
   "execution_count": 334,
   "metadata": {},
   "outputs": [],
   "source": [
    "plt.imshow(EFI,cmap=\"jet\")\n",
    "plt.show()"
   ]
  },
  {
   "cell_type": "code",
   "execution_count": null,
   "metadata": {},
   "outputs": [],
   "source": []
  }
 ],
 "metadata": {
  "kernelspec": {
   "display_name": "Python 3",
   "language": "python",
   "name": "python3"
  },
  "language_info": {
   "codemirror_mode": {
    "name": "ipython",
    "version": 3
   },
   "file_extension": ".py",
   "mimetype": "text/x-python",
   "name": "python",
   "nbconvert_exporter": "python",
   "pygments_lexer": "ipython3",
   "version": "3.7.1"
  }
 },
 "nbformat": 4,
 "nbformat_minor": 2
}
